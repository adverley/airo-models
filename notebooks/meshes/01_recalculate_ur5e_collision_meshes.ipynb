{
 "cells": [
  {
   "cell_type": "markdown",
   "metadata": {},
   "source": [
    "# Recaclulating Collision Meshes\n",
    "\n",
    "In this notebook we show how we can recalculate the collision meshes of the UR5e forearm and upper arm links.\n",
    "We do this by cropping the visualisation meshes into three parts and computing their convex hulls.\n",
    "\n",
    "This notebook required the following packages to be installed:\n",
    "- `open3d`\n",
    "- `airo-drake`"
   ]
  },
  {
   "cell_type": "markdown",
   "metadata": {},
   "source": [
    "## 1. The original URDF"
   ]
  },
  {
   "cell_type": "code",
   "execution_count": null,
   "metadata": {},
   "outputs": [],
   "source": [
    "import numpy as np\n",
    "from pydrake.planning import RobotDiagramBuilder\n",
    "from airo_drake import SingleArmScene, add_floor, add_meshcat, finish_build\n",
    "import airo_models\n",
    "\n",
    "def create_single_arm_scene(urdf_path: str) -> SingleArmScene:\n",
    "    robot_diagram_builder = RobotDiagramBuilder()\n",
    "\n",
    "    meshcat = add_meshcat(robot_diagram_builder)\n",
    "\n",
    "    plant = robot_diagram_builder.plant()\n",
    "    parser = robot_diagram_builder.parser()\n",
    "\n",
    "    # Load URDF files\n",
    "    arm_index = parser.AddModels(urdf_path)[0]\n",
    "\n",
    "    # Weld some frames together\n",
    "    world_frame = plant.world_frame()\n",
    "    arm_frame = plant.GetFrameByName(\"base_link\", arm_index)\n",
    "\n",
    "    plant.WeldFrames(world_frame, arm_frame)\n",
    "\n",
    "    robot_diagram, context = finish_build(robot_diagram_builder)\n",
    "\n",
    "    scene = SingleArmScene(robot_diagram, arm_index, None, meshcat)\n",
    "    return scene\n",
    "\n",
    "\n",
    "original_arm_urdf_path = airo_models.get_urdf_path(\"ur5e\")\n",
    "scene = create_single_arm_scene(original_arm_urdf_path)"
   ]
  },
  {
   "cell_type": "markdown",
   "metadata": {},
   "source": [
    "## 2. Lets make a copy to work with\n",
    "\n",
    "Because we store the paths to meshes as relative paths to URDFs, it's easiest to copy the entire URDF to a new directory and work with that."
   ]
  },
  {
   "cell_type": "code",
   "execution_count": null,
   "metadata": {},
   "outputs": [],
   "source": [
    "import os\n",
    "import shutil\n",
    "\n",
    "original_arm_dir = os.path.dirname(original_arm_urdf_path)\n",
    "output_dir = \"output\"\n",
    "\n",
    "os.makedirs(output_dir, exist_ok=True)\n",
    "\n",
    "arm_name = os.path.basename(original_arm_dir)\n",
    "\n",
    "shutil.copytree(original_arm_dir, os.path.join(output_dir, arm_name), dirs_exist_ok=True)"
   ]
  },
  {
   "cell_type": "code",
   "execution_count": null,
   "metadata": {},
   "outputs": [],
   "source": [
    "!ls $output_dir"
   ]
  },
  {
   "cell_type": "code",
   "execution_count": null,
   "metadata": {},
   "outputs": [],
   "source": [
    "new_arm_urdf_path = os.path.join(output_dir, arm_name, f\"{arm_name}.urdf\")\n",
    "new_arm_urdf_dir = os.path.dirname(new_arm_urdf_path)\n",
    "\n",
    "new_arm_urdf_dir"
   ]
  },
  {
   "cell_type": "code",
   "execution_count": null,
   "metadata": {},
   "outputs": [],
   "source": [
    "import airo_models\n",
    "from airo_models.urdf import read_urdf\n",
    "\n",
    "arm_urdf = read_urdf(new_arm_urdf_path)\n"
   ]
  },
  {
   "cell_type": "code",
   "execution_count": null,
   "metadata": {},
   "outputs": [],
   "source": [
    "from airo_models.urdf import get_link_by_name\n",
    "\n",
    "link_name = \"forearm_link\"\n",
    "\n",
    "link = get_link_by_name(arm_urdf, \"forearm_link\")\n",
    "link"
   ]
  },
  {
   "cell_type": "code",
   "execution_count": null,
   "metadata": {},
   "outputs": [],
   "source": [
    "visual_mesh_rel_path = link[\"visual\"][\"geometry\"][\"mesh\"][\"@filename\"]\n",
    "visual_mesh_rel_path"
   ]
  },
  {
   "cell_type": "code",
   "execution_count": null,
   "metadata": {},
   "outputs": [],
   "source": [
    "\n",
    "from airo_models.urdf import make_path_absolute\n",
    "\n",
    "visual_mesh_path =  make_path_absolute(visual_mesh_rel_path, new_arm_urdf_path)\n",
    "visual_mesh_path"
   ]
  },
  {
   "cell_type": "code",
   "execution_count": null,
   "metadata": {},
   "outputs": [],
   "source": [
    "import open3d as o3d\n",
    "\n",
    "visual_mesh = o3d.io.read_triangle_mesh(visual_mesh_path)\n",
    "visual_mesh"
   ]
  },
  {
   "cell_type": "markdown",
   "metadata": {},
   "source": [
    "### Creating bounding boxes to crop the mesh"
   ]
  },
  {
   "cell_type": "code",
   "execution_count": null,
   "metadata": {},
   "outputs": [],
   "source": [
    "bbox_x = 0.08\n",
    "bbox_y = 0.08\n",
    "\n",
    "z_elbow_shaft = 0.09\n",
    "z_shaft_wrist = 0.353\n",
    "\n",
    "\n",
    "def create_z_crop_bbox(\n",
    "    z_min: float, z_max: float, size_xy: float = 0.08, color: tuple[float, float, float] = (0.0, 0.0, 1.0)\n",
    ") -> o3d.geometry.AxisAlignedBoundingBox:\n",
    "    \"\"\"Creates a bounding box for cropping a mesh along the Z-axis.\n",
    "\n",
    "    Args:\n",
    "        z_min: The minimum Z-coordinate of the bounding box.\n",
    "        z_max: The maximum Z-coordinate of the bounding box.\n",
    "        size_xy: The size of the bounding box in the X and Y dimensions.\n",
    "            (Defaults to 0.08)\n",
    "        color: The color of the bounding box as an RGB tuple.\n",
    "            (Defaults to blue)\n",
    "\n",
    "    Returns:\n",
    "        open3d.geometry.AxisAlignedBoundingBox\n",
    "    \"\"\"\n",
    "\n",
    "    bbox = ((-size_xy, -size_xy, z_min), (size_xy, size_xy, z_max))\n",
    "    bbox_o3d = o3d.geometry.AxisAlignedBoundingBox(*bbox)\n",
    "    bbox_o3d.color = color\n",
    "    return bbox_o3d\n",
    "\n",
    "\n",
    "z_ranges_forearm = [(-0.08, 0.09), (0.09, 0.353), (0.353, 0.45)]\n",
    "z_range_upperarm = [(-0.08, 0.09), (0.09, 0.353), (0.353, 0.45)]\n",
    "z_ranges = {\"forearm_link\": z_ranges_forearm, \"upperarm\": z_range_upperarm}\n",
    "\n",
    "\n",
    "z_range = z_ranges[link_name]\n",
    "\n",
    "bboxes = [create_z_crop_bbox(*z) for z in z_range]\n",
    "\n",
    "\n",
    "visual_mesh.compute_vertex_normals()\n",
    "world_frame = o3d.geometry.TriangleMesh.create_coordinate_frame(size=0.5, origin=[0, 0, 0])\n",
    "\n",
    "\n",
    "o3d.visualization.draw_geometries([visual_mesh, *bboxes, world_frame])"
   ]
  },
  {
   "cell_type": "markdown",
   "metadata": {},
   "source": [
    "### Cropping and calculating the convex hulls"
   ]
  },
  {
   "cell_type": "code",
   "execution_count": null,
   "metadata": {},
   "outputs": [],
   "source": [
    "hulls = []\n",
    "crops = []\n",
    "\n",
    "\n",
    "def create_hulls_of_crops(\n",
    "    mesh: o3d.geometry.TriangleMesh, bboxes: list[o3d.geometry.AxisAlignedBoundingBox]\n",
    ") -> list[o3d.geometry.TriangleMesh]:\n",
    "    \"\"\"Creates the convex hulls of the crops of a mesh.\n",
    "\n",
    "    Args:\n",
    "        mesh: The mesh to crop and create convex hulls from.\n",
    "        bboxes: The bounding boxes to use for cropping.\n",
    "\n",
    "    Returns:\n",
    "        list[o3d.geometry.TriangleMesh]\n",
    "    \"\"\"\n",
    "\n",
    "    crops = [mesh.crop(bbox) for bbox in bboxes]\n",
    "    hulls = [crop.compute_convex_hull()[0] for crop in crops]\n",
    "\n",
    "    for hull in hulls:\n",
    "        hull.compute_vertex_normals()\n",
    "\n",
    "        color = np.random.rand(3)\n",
    "        hull.paint_uniform_color(color)\n",
    "\n",
    "    return hulls\n",
    "\n",
    "\n",
    "hulls = create_hulls_of_crops(visual_mesh, bboxes)\n",
    "\n",
    "o3d.visualization.draw_geometries([*hulls, world_frame])"
   ]
  },
  {
   "cell_type": "markdown",
   "metadata": {},
   "source": [
    "### Replacing the collision element"
   ]
  },
  {
   "cell_type": "code",
   "execution_count": null,
   "metadata": {},
   "outputs": [],
   "source": [
    "link[\"collision\"]"
   ]
  },
  {
   "cell_type": "code",
   "execution_count": null,
   "metadata": {},
   "outputs": [],
   "source": [
    "origin = link[\"collision\"][\"origin\"].copy()\n",
    "origin"
   ]
  },
  {
   "cell_type": "code",
   "execution_count": null,
   "metadata": {},
   "outputs": [],
   "source": [
    "import tempfile\n",
    "\n",
    "\n",
    "\n",
    "def create_new_collision_elements(hulls: list[o3d.geometry.TriangleMesh], origin: dict, collision_mesh_dir: str, link_name: str, urdf_dir: str = None):\n",
    "    new_collision_elements = []\n",
    "\n",
    "    \n",
    "    for i, hull in enumerate(hulls):\n",
    "        hull_obj_path = os.path.join(collision_mesh_dir, f\"{link_name}_part_{i}.obj\")\n",
    "\n",
    "        print(hull_obj_path)\n",
    "\n",
    "        hull_obj_rel_path = os.path.relpath(hull_obj_path, urdf_dir)\n",
    "\n",
    "        o3d.io.write_triangle_mesh(hull_obj_path, hull)\n",
    "\n",
    "        collision = {\n",
    "            \"origin\": origin,\n",
    "            \"geometry\": {\n",
    "                \"mesh\": {\n",
    "                    \"@filename\": hull_obj_rel_path\n",
    "                }\n",
    "            }\n",
    "        }\n",
    "\n",
    "        new_collision_elements.append(collision)\n",
    "\n",
    "    return new_collision_elements\n",
    "\n",
    "\n",
    "# TODO make sure the meshes are written to the right location, but the paths in the URDF are relative to the URDF file\n",
    "collision_mesh_dir = os.path.join(new_arm_urdf_dir, \"collision\")\n",
    "new_collision_elements =create_new_collision_elements(hulls, origin, collision_mesh_dir, link_name, new_arm_urdf_dir)\n",
    "\n",
    "new_collision_elements"
   ]
  },
  {
   "cell_type": "markdown",
   "metadata": {},
   "source": [
    "### Editing and resaving the URDF"
   ]
  },
  {
   "cell_type": "code",
   "execution_count": null,
   "metadata": {},
   "outputs": [],
   "source": [
    "from airo_models.urdf import write_urdf_to_file\n",
    "\n",
    "link[\"collision\"] = new_collision_elements\n",
    "\n",
    "write_urdf_to_file(arm_urdf, new_arm_urdf_path)"
   ]
  },
  {
   "cell_type": "code",
   "execution_count": null,
   "metadata": {},
   "outputs": [],
   "source": [
    "scene = create_single_arm_scene(new_arm_urdf_path)"
   ]
  },
  {
   "cell_type": "code",
   "execution_count": null,
   "metadata": {},
   "outputs": [],
   "source": []
  }
 ],
 "metadata": {
  "kernelspec": {
   "display_name": "cloth-competition",
   "language": "python",
   "name": "python3"
  },
  "language_info": {
   "codemirror_mode": {
    "name": "ipython",
    "version": 3
   },
   "file_extension": ".py",
   "mimetype": "text/x-python",
   "name": "python",
   "nbconvert_exporter": "python",
   "pygments_lexer": "ipython3",
   "version": "3.10.13"
  }
 },
 "nbformat": 4,
 "nbformat_minor": 2
}
