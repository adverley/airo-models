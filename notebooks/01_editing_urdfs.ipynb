{
 "cells": [
  {
   "cell_type": "code",
   "execution_count": null,
   "metadata": {},
   "outputs": [],
   "source": [
    "import airo_models\n",
    "from airo_models.urdf import read_urdf"
   ]
  },
  {
   "cell_type": "code",
   "execution_count": null,
   "metadata": {},
   "outputs": [],
   "source": [
    "robotiq_urdf_path = airo_models.get_urdf_path(\"robotiq_2f_85\")"
   ]
  },
  {
   "cell_type": "code",
   "execution_count": null,
   "metadata": {},
   "outputs": [],
   "source": [
    "urdf = read_urdf(robotiq_urdf_path)\n",
    "urdf[\"robot\"][\"joint\"][0][\"@type\"]"
   ]
  },
  {
   "cell_type": "code",
   "execution_count": null,
   "metadata": {},
   "outputs": [],
   "source": [
    "airo_models.urdf.replace_value(urdf, \"@type\", \"revolute\", \"fixed\")\n",
    "urdf[\"robot\"][\"joint\"][0][\"@type\"]"
   ]
  },
  {
   "cell_type": "code",
   "execution_count": null,
   "metadata": {},
   "outputs": [],
   "source": [
    "for joint in urdf[\"robot\"][\"joint\"]:\n",
    "    print(f\"{joint['@name']:30}\", \"mimic\" in joint)"
   ]
  },
  {
   "cell_type": "code",
   "execution_count": null,
   "metadata": {},
   "outputs": [],
   "source": [
    "airo_models.urdf.delete_key(urdf, \"mimic\")\n",
    "\n",
    "for joint in urdf[\"robot\"][\"joint\"]:\n",
    "    print(f\"{joint['@name']:30}\", \"mimic\" in joint)"
   ]
  },
  {
   "cell_type": "code",
   "execution_count": null,
   "metadata": {},
   "outputs": [],
   "source": [
    "path = urdf[\"robot\"][\"link\"][0][\"visual\"][\"geometry\"][\"mesh\"][\"@filename\"]\n",
    "path"
   ]
  },
  {
   "cell_type": "code",
   "execution_count": null,
   "metadata": {},
   "outputs": [],
   "source": [
    "airo_models.urdf.make_paths_absolute(urdf, robotiq_urdf_path)\n",
    "urdf[\"robot\"][\"link\"][0][\"visual\"][\"geometry\"][\"mesh\"][\"@filename\"]"
   ]
  },
  {
   "cell_type": "code",
   "execution_count": null,
   "metadata": {},
   "outputs": [],
   "source": [
    "airo_models.urdf.write_urdf_to_file(urdf, \"robotiq_2f_85_static.urdf\")"
   ]
  },
  {
   "cell_type": "code",
   "execution_count": null,
   "metadata": {},
   "outputs": [],
   "source": []
  }
 ],
 "metadata": {
  "kernelspec": {
   "display_name": "cloth-competition",
   "language": "python",
   "name": "python3"
  },
  "language_info": {
   "codemirror_mode": {
    "name": "ipython",
    "version": 3
   },
   "file_extension": ".py",
   "mimetype": "text/x-python",
   "name": "python",
   "nbconvert_exporter": "python",
   "pygments_lexer": "ipython3",
   "version": "3.10.13"
  }
 },
 "nbformat": 4,
 "nbformat_minor": 2
}
